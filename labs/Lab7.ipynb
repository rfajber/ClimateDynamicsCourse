{
 "cells": [
  {
   "cell_type": "code",
   "execution_count": 3,
   "metadata": {},
   "outputs": [],
   "source": [
    "import xarray as xr\n",
    "import numpy as np\n",
    "import matplotlib.pyplot as plt"
   ]
  },
  {
   "cell_type": "code",
   "execution_count": 4,
   "metadata": {},
   "outputs": [],
   "source": [
    "indir='../data'\n",
    "ds_T = xr.open_dataset(f'{indir}/air.2000.nc')\n",
    "ds_v = xr.open_dataset(f'{indir}/vwnd.2000.nc')\n",
    "ds_u = xr.open_dataset(f'{indir}/uwnd.2000.nc')\n",
    "ds_z = xr.open_dataset(f'{indir}/hgt.2000.nc')\n",
    "ds_q = xr.open_dataset(f'{indir}/sphum.2000.nc')\n",
    "T = ds_T.air\n",
    "v = ds_v.vwnd\n",
    "u = ds_u.uwnd\n",
    "q = ds_q.sphum\n",
    "z = ds_z.hgt\n",
    "l = ds_T.lat\n",
    "p = ds_T.level\n",
    "t = ds_T.time"
   ]
  },
  {
   "cell_type": "markdown",
   "metadata": {},
   "source": [
    "# Lab 7 - Vertical Distribution of KE and Transient Eddies\n",
    "\n",
    "# Preamble\n",
    "\n",
    "The main goal of this lab is to seperate the components of the transient and stationary eddies from the zonal and time mean. \n",
    "\n",
    "The zonal mean kintetic energy can be calculated as \n",
    "\n",
    "$$ \\mathrm{KE} = \\mathrm{KE}_{\\mathrm{MEAN}}+\\mathrm{KE}_{\\mathrm{TE}}+\\mathrm{KE}_{\\mathrm{SE}}$$\n",
    "\n",
    "Where \n",
    "\n",
    "$$ \\mathrm{KE}_{\\mathrm{MEAN}} = \\frac{1}{2} \\left( [\\overline{u}]^2 + [\\overline{v}]^2\\right) $$\n",
    "\n",
    "$$ \\mathrm{KE}_{\\mathrm{TE}} = \\frac{1}{2} \\left( [\\overline{u'^2}] + [\\overline{v'^2}]\\right) $$\n",
    "\n",
    "$$ \\mathrm{KE}_{\\mathrm{SE}} = \\frac{1}{2} \\left( [{\\overline{u}^*}^2] + [{\\overline{v}^*}^2]\\right) $$\n",
    "\n",
    "In this lab we will interpet $ \\overline{A} $ as being the monthly mean of $A$.\n",
    "\n",
    "We can also caculate the Transient Eddy terms in the MSE budget similarly, e.g.\n",
    "\n",
    "$$ \\mathrm{F^T_{TE}} = C_p \\overline{v'T'}  $$\n",
    "$$ \\mathrm{F^z_{TE}} = g \\overline{v'z'}  $$\n",
    "$$ \\mathrm{F^q_{TE}} = L_v \\overline{v'q'}  $$\n",
    "\n",
    "The prefactors in front of each are to make them energy like units, so that way they can be compared.\n",
    "\n",
    "We will use the same NCEP data from the year 200, which is loaded into this notebook in the cell above this.\n"
   ]
  },
  {
   "cell_type": "markdown",
   "metadata": {},
   "source": [
    "# Questions\n",
    "\n",
    "hint - this is another lab where your life will be easier if you write some functions.\n",
    "\n",
    "hint - as in previous labs, you can use something like ``` T.where(t.dt.month==1,drop=True) ``` to select 1 month of data from a data array.\n",
    "\n",
    "## 1 - The Zonal Mean Kinetic Energy\n",
    "\n",
    "1.1 For January and July, calculate and plot the 3 Component of the Kinetic Energy $\\mathrm{KE_{MEAN}}, \\mathrm{KE_{TE}}, \\mathrm{KE_{SE}}$. Your plots will be zonal mean plots, e.g. the axes will be pressure and latitude. \n",
    "\n",
    "1.2 What is the relative contributions of the transient and stationary eddis to the total KE?\n",
    "\n",
    "1.3 Is $\\mathrm{KE_{TE}}$ higher in the summer or winter? \n",
    "\n",
    "## 2 - The Transient Eddy Fluxes \n",
    "\n",
    "2.1 For January and July, calculate and plot the 3 components of the transient MSE eddy flux: $\\mathrm{F^T_{TE}}, \\, \\mathrm{F^z_{TE}}\\, \\mathrm{F^q_{TE}}$. Again, your plots will be zonal mean plots.\n",
    "\n",
    "2.2 What is the relative contributions of the T, z, and q components of the transient eddies to the total flux?\n",
    "\n",
    "2.3 Is $\\mathrm{F^T_{TE}}$ higher in the summer or winter?  "
   ]
  }
 ],
 "metadata": {
  "kernelspec": {
   "display_name": "base",
   "language": "python",
   "name": "python3"
  },
  "language_info": {
   "codemirror_mode": {
    "name": "ipython",
    "version": 3
   },
   "file_extension": ".py",
   "mimetype": "text/x-python",
   "name": "python",
   "nbconvert_exporter": "python",
   "pygments_lexer": "ipython3",
   "version": "3.12.2"
  }
 },
 "nbformat": 4,
 "nbformat_minor": 2
}
