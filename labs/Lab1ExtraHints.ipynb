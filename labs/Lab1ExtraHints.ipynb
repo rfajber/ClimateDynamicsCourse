{
 "cells": [
  {
   "cell_type": "code",
   "execution_count": 2,
   "metadata": {},
   "outputs": [],
   "source": [
    "import xarray as xr\n",
    "import numpy as np\n",
    "import matplotlib.pyplot as plt\n",
    "import pandas as pd"
   ]
  },
  {
   "cell_type": "markdown",
   "metadata": {},
   "source": [
    "# Hints\n",
    " - you don't *have* to use xarray to do these problems, but many of them are much easier if you do. See the Example lab for some ways to do this if you are unfamiliar. \n",
    " - xarray has the ability to apply operations to different months with the where operation, e.g. to get the mean of all the Januarays in ds:\n",
    "\n",
    "    ``` ds.where(ds.time.dt.month==1).mean()```\n",
    "\n",
    "- you can take mean and standard deviations in xarray easily using ```.mean()``` and ```.std()```. Note if you don't specify a dimension it will take the mean or standard deviation over all dimensions.\n",
    "    \n",
    "- you can use pandas to make really nice tables with little titles, see the next cell for a little example"
   ]
  },
  {
   "cell_type": "code",
   "execution_count": 3,
   "metadata": {},
   "outputs": [
    {
     "data": {
      "text/html": [
       "<style type=\"text/css\">\n",
       "</style>\n",
       "<table id=\"T_59ee5\">\n",
       "  <caption>Example Table</caption>\n",
       "  <thead>\n",
       "    <tr>\n",
       "      <th class=\"blank level0\" >&nbsp;</th>\n",
       "      <th id=\"T_59ee5_level0_col0\" class=\"col_heading level0 col0\" >1</th>\n",
       "      <th id=\"T_59ee5_level0_col1\" class=\"col_heading level0 col1\" >2</th>\n",
       "      <th id=\"T_59ee5_level0_col2\" class=\"col_heading level0 col2\" >3</th>\n",
       "    </tr>\n",
       "  </thead>\n",
       "  <tbody>\n",
       "    <tr>\n",
       "      <th id=\"T_59ee5_level0_row0\" class=\"row_heading level0 row0\" >A</th>\n",
       "      <td id=\"T_59ee5_row0_col0\" class=\"data row0 col0\" >1.11e+00</td>\n",
       "      <td id=\"T_59ee5_row0_col1\" class=\"data row0 col1\" >7.37e-03</td>\n",
       "      <td id=\"T_59ee5_row0_col2\" class=\"data row0 col2\" >7.65e-01</td>\n",
       "    </tr>\n",
       "    <tr>\n",
       "      <th id=\"T_59ee5_level0_row1\" class=\"row_heading level0 row1\" >B</th>\n",
       "      <td id=\"T_59ee5_row1_col0\" class=\"data row1 col0\" >-4.84e-01</td>\n",
       "      <td id=\"T_59ee5_row1_col1\" class=\"data row1 col1\" >3.37e-01</td>\n",
       "      <td id=\"T_59ee5_row1_col2\" class=\"data row1 col2\" >1.14e+00</td>\n",
       "    </tr>\n",
       "    <tr>\n",
       "      <th id=\"T_59ee5_level0_row2\" class=\"row_heading level0 row2\" >C</th>\n",
       "      <td id=\"T_59ee5_row2_col0\" class=\"data row2 col0\" >-7.43e-01</td>\n",
       "      <td id=\"T_59ee5_row2_col1\" class=\"data row2 col1\" >3.78e-01</td>\n",
       "      <td id=\"T_59ee5_row2_col2\" class=\"data row2 col2\" >-4.95e-01</td>\n",
       "    </tr>\n",
       "  </tbody>\n",
       "</table>\n"
      ],
      "text/plain": [
       "<pandas.io.formats.style.Styler at 0x7fb617d53090>"
      ]
     },
     "execution_count": 3,
     "metadata": {},
     "output_type": "execute_result"
    }
   ],
   "source": [
    "dfo = pd.DataFrame(  np.random.randn(3,3),\n",
    "                    columns=['1','2','3'],\n",
    "                    index=['A','B','C'])\n",
    "\n",
    "dfo.style.format('{:1.2e}').set_caption('Example Table')"
   ]
  },
  {
   "cell_type": "markdown",
   "metadata": {},
   "source": [
    "# Even More Hints {-}\n",
    "\n",
    "- The CanESM files all have the format ```CanESM_VARIABLE_historical_r1i1p1f1.nc```, where VARIABLE is a code for one of the different variables. If you need to figure out which vairbale it is, you can use ```ncdump -h``` or open the file in xarray to see whats inside.\n",
    "\n",
    "- the CanESM data is from a climate model run which was run using \n",
    "\n",
    "- If you're not familiar with xarray yet its probably easier to load each variable as a seperate dataset, e.g.\n",
    "\n",
    "``` ds_Clh=xr.open_dataset(f'{indir}/CanESM_hfls_1970_r1i1p1f1.nc') ```\n",
    "    \n",
    "- You can load all the data you need to at once using the xr.open_mfdataset function like so:\n",
    "\n",
    "```ds_C = xr.open_mfdataset(f'{indir}/Can*1970*.nc') ```\n",
    "\n",
    "note that if you do this you won't be able to compute things directly, for instance if you want to add two variables together you will have to do something like\n",
    "\n",
    "``` ds_C.X = (ds_C.A+ds_C.B).compute()```\n",
    "\n",
    "- For question 1, the final output will be extremley similar to figure 5.1 in Hartman, although its probably better to use kg/s/m^2 instead of cm/year as the units. \n",
    "\n",
    "- For now and the rest of this course, you can assume that the latent heat of vaporization is a constant set to 2.5 x 10^6 J/kg. In reality it varies with temperature, but the variations are small compared to some of the other approximations that we are making. \n",
    "\n",
    "- The _1970 version of the files are the same as the ones without the _1970, but the time series goes from 1970-2015 instead of from 1850-2015. You should use the _1970 version, to make the calculations faster. \n",
    "\n",
    "- If you need to area weight your data, you should take a look at the example lab.\n",
    "\n",
    "- For the CERES data there is a file called ```CERES_EBAF_v4.1_2000_2014_climatology.nc```, which has all of the variables in it. I have kept the cmip6 naming conventions in that file, although NASA does not by default. \n",
    "\n",
    "- The TOA output is similar to (some of) the results that you will find in Figure 2.4 (and subsequent discussion of) Figure 2.4 of Hartman. \n"
   ]
  }
 ],
 "metadata": {
  "kernelspec": {
   "display_name": "ATOC531",
   "language": "python",
   "name": "python3"
  },
  "language_info": {
   "codemirror_mode": {
    "name": "ipython",
    "version": 3
   },
   "file_extension": ".py",
   "mimetype": "text/x-python",
   "name": "python",
   "nbconvert_exporter": "python",
   "pygments_lexer": "ipython3",
   "version": "3.11.9"
  }
 },
 "nbformat": 4,
 "nbformat_minor": 2
}
