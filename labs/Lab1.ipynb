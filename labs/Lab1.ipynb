{
 "cells": [
  {
   "cell_type": "code",
   "execution_count": 70,
   "metadata": {},
   "outputs": [],
   "source": [
    "import xarray as xr\n",
    "import numpy as np\n",
    "import matplotlib.pyplot as plt\n",
    "import pandas as pd"
   ]
  },
  {
   "cell_type": "markdown",
   "metadata": {},
   "source": [
    "# Preamble {-}\n",
    "\n",
    "- This lab is going to look at the global water and energy balances, using a model and some satellite observations.\n",
    "- The climate model data comes from CanESM5, the Canadian contribution to the last round of the global climate model intercomparison project (CMIP6). The data for this is in data/dataUpload\n",
    "- The Satellite data comes from the CERES satellite EBAF product, which uses satellite radiometer measurements of the top of the atmosphere taken over many satellite passes to estimate the total energy imbalance of the planet. "
   ]
  },
  {
   "cell_type": "markdown",
   "metadata": {},
   "source": [
    "# Hints {-}\n",
    " - you don't *have* to use xarray to do these problems, but many of them are much easier if you do. See the Example lab for some ways to do this if you are unfamiliar. \n",
    " - xarray has the ability to apply operations to different months with the where operation, e.g. to get the mean of all the Januarays in ds:\n",
    "\n",
    "    ``` ds.where(ds.time.dt.month==1).mean()```\n",
    "\n",
    "- you can take mean and standard deviations in xarray easily using ```.mean()``` and ```.std()```. Note if you don't specify a dimension it will take the mean or standard deviation over all dimensions.\n",
    "    \n",
    "- you can use pandas to make really nice tables with little titles, see the next cell for a little example"
   ]
  },
  {
   "cell_type": "code",
   "execution_count": 290,
   "metadata": {},
   "outputs": [
    {
     "data": {
      "text/html": [
       "<style type=\"text/css\">\n",
       "</style>\n",
       "<table id=\"T_963b6\">\n",
       "  <caption>Example Table</caption>\n",
       "  <thead>\n",
       "    <tr>\n",
       "      <th class=\"blank level0\" >&nbsp;</th>\n",
       "      <th id=\"T_963b6_level0_col0\" class=\"col_heading level0 col0\" >1</th>\n",
       "      <th id=\"T_963b6_level0_col1\" class=\"col_heading level0 col1\" >2</th>\n",
       "      <th id=\"T_963b6_level0_col2\" class=\"col_heading level0 col2\" >3</th>\n",
       "    </tr>\n",
       "  </thead>\n",
       "  <tbody>\n",
       "    <tr>\n",
       "      <th id=\"T_963b6_level0_row0\" class=\"row_heading level0 row0\" >A</th>\n",
       "      <td id=\"T_963b6_row0_col0\" class=\"data row0 col0\" >-7.01e-01</td>\n",
       "      <td id=\"T_963b6_row0_col1\" class=\"data row0 col1\" >-7.45e-01</td>\n",
       "      <td id=\"T_963b6_row0_col2\" class=\"data row0 col2\" >1.13e+00</td>\n",
       "    </tr>\n",
       "    <tr>\n",
       "      <th id=\"T_963b6_level0_row1\" class=\"row_heading level0 row1\" >B</th>\n",
       "      <td id=\"T_963b6_row1_col0\" class=\"data row1 col0\" >-8.98e-01</td>\n",
       "      <td id=\"T_963b6_row1_col1\" class=\"data row1 col1\" >4.85e-01</td>\n",
       "      <td id=\"T_963b6_row1_col2\" class=\"data row1 col2\" >-6.58e-01</td>\n",
       "    </tr>\n",
       "    <tr>\n",
       "      <th id=\"T_963b6_level0_row2\" class=\"row_heading level0 row2\" >C</th>\n",
       "      <td id=\"T_963b6_row2_col0\" class=\"data row2 col0\" >3.82e-01</td>\n",
       "      <td id=\"T_963b6_row2_col1\" class=\"data row2 col1\" >-4.26e-01</td>\n",
       "      <td id=\"T_963b6_row2_col2\" class=\"data row2 col2\" >-1.66e-02</td>\n",
       "    </tr>\n",
       "  </tbody>\n",
       "</table>\n"
      ],
      "text/plain": [
       "<pandas.io.formats.style.Styler at 0x7f0a2d5e1e50>"
      ]
     },
     "execution_count": 290,
     "metadata": {},
     "output_type": "execute_result"
    }
   ],
   "source": [
    "dfo = pd.DataFrame(  np.random.randn(3,3),\n",
    "                    columns=['1','2','3'],\n",
    "                    index=['A','B','C'])\n",
    "\n",
    "dfo.style.format('{:1.2e}').set_caption('Example Table')\n"
   ]
  },
  {
   "cell_type": "markdown",
   "metadata": {},
   "source": [
    "# Questions {-}\n",
    "\n",
    "## 1. Global Water Balance Components from a climate model {-}\n",
    "\n",
    "for this problem, you only need to use the CanESM data.\n",
    "\n",
    "### 1.1 {-}\n",
    "- Calculate the Evaporation, Precipitation, and Runoff averaged per $m^2$ of land\n",
    "- Calculate the Evaporation, Precipitation, and Runoff averaged per $m^2$ of ocean\n",
    "\n",
    "### 1.2 {-}\n",
    "- Show that your calculations are consistent by comparing the Runoff estimated from the ocean with the runoff computed from the land. What assumption do you have to make in order to do this calculation?\n",
    "\n",
    "## 2. Comparing the TOA energy balance of a climate model and observations {-}\n",
    "\n",
    "### 2.1 {-}\n",
    "- Compute the global and annual mean averaged components from CanESM5 and CERES. Note that CERES is only for the period 2000-2014, so you will need to subset the data from CanESM5 in order to make a fair comparison.\n",
    "\n",
    "### 2.2 {-}\n",
    "- what does the net TOA radiation tell us about the energy storage of the planet?\n",
    "- Are the models and observations different? If they are, can you formulate a hypothesis about how the climates of the model differs from observations? Can you come up with a simple test of your hypothesis?\n",
    "\n",
    "## 3. Calculating and interpreting monthly variability {-}\n",
    "\n",
    "for this problem, you only need to use the CanESM data.\n",
    "\n",
    "We're going to consider a variable $$h=\\frac{MSE}{C_p}=T_{2m}+\\frac{L_v}{C_p}q_{2m}$$\n",
    "\n",
    "### 3.1 {-}\n",
    "- compute the climatology of the monthly standard deviation, e.g. compute the monthly standard deviation of h every year, and then compute the mean over all years. Make a plot of this.\n",
    "- now compute the difference between the mean of h in January and the mean of h in July, and plot it. Comparing this to the previous plot, what can you infer about the sources fo the standard deviation?\n",
    "\n",
    "### 3.2 {-}\n",
    "- Compute the climatology of the monthly standard deviations of $T_{2m}$ and $\\frac{L_v}{C_p}q_{2m}$ separately. Where does each term contribute the most to the standard deviation?\n",
    "\n",
    "### 3.3 {-}\n",
    "- Which season, winter or summer, has more year to year variability in h? "
   ]
  },
  {
   "cell_type": "markdown",
   "metadata": {},
   "source": [
    "# Notebook Cells {-}\n",
    "\n",
    "# Question 1 {-}"
   ]
  },
  {
   "cell_type": "markdown",
   "metadata": {},
   "source": [
    "# Question 2 {-}"
   ]
  },
  {
   "cell_type": "markdown",
   "metadata": {},
   "source": [
    "# Question 3 {-}"
   ]
  }
 ],
 "metadata": {
  "kernelspec": {
   "display_name": "ATOC531",
   "language": "python",
   "name": "python3"
  },
  "language_info": {
   "codemirror_mode": {
    "name": "ipython",
    "version": 3
   },
   "file_extension": ".py",
   "mimetype": "text/x-python",
   "name": "python",
   "nbconvert_exporter": "python",
   "pygments_lexer": "ipython3",
   "version": "3.11.9"
  }
 },
 "nbformat": 4,
 "nbformat_minor": 2
}
